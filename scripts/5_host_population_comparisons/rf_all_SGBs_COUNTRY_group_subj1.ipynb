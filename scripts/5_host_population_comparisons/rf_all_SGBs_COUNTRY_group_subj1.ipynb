{
 "cells": [
  {
   "attachments": {},
   "cell_type": "markdown",
   "metadata": {},
   "source": [
    "random forest virus & bacteria species table \n",
    "Choose a country\n",
    "GROUP THE TRAIN/TEST SETS BY PATIENT"
   ]
  },
  {
   "cell_type": "code",
   "execution_count": 1,
   "metadata": {},
   "outputs": [],
   "source": [
    "### load packages\n",
    "import os\n",
    "import os.path as path\n",
    "import sys, os\n",
    "import pandas as pd\n",
    "import numpy as np\n",
    "import math\n",
    "import scipy\n",
    "from sklearn.model_selection import train_test_split\n",
    "from sklearn.ensemble import RandomForestClassifier\n",
    "from sklearn import metrics\n",
    "import matplotlib.pyplot as plt\n",
    "\n",
    "from sklearn import svm, datasets\n",
    "from sklearn.metrics import roc_curve, auc, RocCurveDisplay\n",
    "from sklearn.model_selection import train_test_split\n",
    "from sklearn.preprocessing import label_binarize\n",
    "from sklearn.multiclass import OneVsRestClassifier\n",
    "from scipy import interp\n",
    "from sklearn.metrics import roc_auc_score\n",
    "from sklearn.model_selection import RandomizedSearchCV\n",
    "from sklearn.ensemble import RandomForestRegressor\n",
    "from sklearn.model_selection import GridSearchCV\n",
    "import re\n",
    "from sklearn.metrics import plot_roc_curve\n",
    "from sklearn.metrics import roc_auc_score\n",
    "import random "
   ]
  },
  {
   "cell_type": "code",
   "execution_count": 2,
   "metadata": {},
   "outputs": [
    {
     "name": "stdout",
     "output_type": "stream",
     "text": [
      "/Users/u241374/mike_tisza/cmmr_repos/teddy_vir_bac_marker_gene/scripts/5_host_population_comparisons\n"
     ]
    }
   ],
   "source": [
    "### location of this .ipynb\n",
    "pathname =os.path.abspath(\"\")\n",
    "print (pathname)\n",
    "\n",
    "### files\n",
    "vir_table=\"../../intermediate_files/TGVG1.1_MPA4_combined_abundance.virus_species.wide.tsv\"\n",
    "bac_table=\"../../intermediate_files/TGVG1.1_MPA4_combined_abundance.bacteria_species.wide.tsv\"\n",
    "metadata_table=\"../../data/some_teddy_MP142_metadata2.all_samples1.delivery.csv\""
   ]
  },
  {
   "cell_type": "code",
   "execution_count": 3,
   "metadata": {},
   "outputs": [],
   "source": [
    "### parse OTU files down to 1% prevalence, the combine\n",
    "\n",
    "vir_df = pd.read_csv(pathname + \"/\" + vir_table, sep=\"\\t\", header=0, index_col=0)\n",
    "\n",
    "thresh = math.ceil(len(vir_df.columns)/100)\n",
    "\n",
    "persist_vir_df = vir_df[vir_df[vir_df > float(0.0)].count(axis=1) >= thresh]\n",
    "\n",
    "bac_df = pd.read_csv(pathname + \"/\" + bac_table, sep=\"\\t\", header=0, index_col=0)\n",
    "\n",
    "thresh = math.ceil(len(bac_df.columns)/100)\n",
    "\n",
    "persist_bac_df = bac_df[bac_df[bac_df > float(0.0)].count(axis=1) >= thresh]\n",
    "\n",
    "persist_comb_df = pd.concat([persist_vir_df, persist_bac_df])\n",
    "\n",
    "\n",
    "persist_comb_df = persist_comb_df.T\n",
    "\n",
    "del vir_df\n",
    "del bac_df\n"
   ]
  },
  {
   "cell_type": "code",
   "execution_count": 4,
   "metadata": {},
   "outputs": [],
   "source": [
    "### Choose a country here:\n",
    "discrim_country = \"USA\"\n",
    "#discrim_country = \"Finland\"\n",
    "#discrim_country = \"Germany\"\n",
    "#discrim_country = \"Sweden\"\n",
    "\n",
    "metadata_df = pd.read_csv(pathname + \"/\" + metadata_table, header=0, index_col=False)\n",
    "metadata_df.index = metadata_df.index.map(int)\n",
    "metadata_df['brst_fed'] = metadata_df['brst_fed'].fillna(0)\n",
    "metadata_df['sample'] = metadata_df['sample'].astype(str)\n",
    "\n",
    "T1D = []\n",
    "Country = []\n",
    "IA = []\n",
    "brst_fd = []\n",
    "masks = []\n",
    "for ind in persist_comb_df.index:\n",
    "    state = metadata_df.loc[metadata_df['sample'] == ind, 'T1D'].values[0]\n",
    "    country_q = metadata_df.loc[metadata_df['sample'] == ind, 'country'].values[0]\n",
    "    ia1 = metadata_df.loc[metadata_df['sample'] == ind, 'IA'].values[0]\n",
    "    milk = metadata_df.loc[metadata_df['sample'] == ind, 'brst_fed'].values[0]\n",
    "    mid = metadata_df.loc[metadata_df['sample'] == ind, 'mask_id'].values[0]\n",
    "    if milk == \"\":\n",
    "        milk = 0\n",
    "    brst_fd += [milk]\n",
    "    Country += [country_q]\n",
    "    T1D += [str(state)]\n",
    "    IA += [str(ia1)]\n",
    "    masks += [str(mid)]\n",
    "#random.shuffle(T1D)\n",
    "c_df = pd.DataFrame({'country': Country, 'T1D': T1D, 'IA': IA, 'breast_fed': brst_fd, 'mask_id': masks}, index=persist_comb_df.index)\n",
    "### map({1: \"USA\", 2: \"Finland\", 3: \"Germany\", 4: \"Sweden\"})\n",
    "if discrim_country == \"USA\" :\n",
    "    c_df['country'] = c_df['country'].map({1: \"USA\", 2: \"other\", 3: \"other\", 4: \"other\"})\n",
    "elif discrim_country == \"Finland\" :\n",
    "    c_df['country'] = c_df['country'].map({1: \"other\", 2: \"Finland\", 3: \"other\", 4: \"other\"})\n",
    "elif discrim_country == \"Germany\" :\n",
    "    c_df['country'] = c_df['country'].map({1: \"other\", 2: \"other\", 3: \"Germany\", 4: \"other\"})\n",
    "elif discrim_country == \"Sweden\" :\n",
    "    c_df['country'] = c_df['country'].map({1: \"other\", 2: \"other\", 3: \"other\", 4: \"Sweden\"})\n",
    "\n",
    "\n",
    "country_df = pd.concat([persist_comb_df, c_df], axis=1)\n",
    "\n",
    "country_clean_df = country_df.drop(['country', 'T1D', 'IA', 'breast_fed', 'mask_id'], axis=1)"
   ]
  },
  {
   "cell_type": "code",
   "execution_count": 5,
   "metadata": {},
   "outputs": [],
   "source": [
    "### Don't change discrim_var\n",
    "discrim_var = \"country\"\n",
    "number_models = 50\n",
    "\n",
    "mask_id_list = country_df['mask_id'].tolist()\n",
    "unique_mask_list = []\n",
    "\n",
    "for x in mask_id_list:\n",
    "    # check if exists in unique_list or not\n",
    "    if x not in unique_mask_list:\n",
    "        unique_mask_list.append(x)\n",
    "\n",
    "perc70 = math.ceil(len(unique_mask_list)*0.7)\n",
    "\n",
    "train_mask_list = random.sample(unique_mask_list, perc70)\n",
    "\n",
    "test_mask_list = list(set(unique_mask_list) - set(train_mask_list))\n",
    "\n",
    "train_sample_df = country_df.loc[country_df['mask_id'].isin(train_mask_list)]\n",
    "train_sample_clean_df = train_sample_df.drop(['country', 'T1D', 'IA', 'breast_fed', 'mask_id'], axis=1)\n",
    "train_sample_list = list(train_sample_df[discrim_var])\n",
    "\n",
    "test_sample_df = country_df.loc[country_df['mask_id'].isin(test_mask_list)]\n",
    "test_sample_clean_df = test_sample_df.drop(['country', 'T1D', 'IA', 'breast_fed', 'mask_id'], axis=1)\n",
    "test_sample_list = list(test_sample_df[discrim_var])"
   ]
  },
  {
   "cell_type": "code",
   "execution_count": 6,
   "metadata": {},
   "outputs": [
    {
     "name": "stdout",
     "output_type": "stream",
     "text": [
      "[0.9234867000061919, 0.9274808384266562, 0.8950963950453201, 0.90466297322253, 0.9078469947624411, 0.9061648544159981, 0.9064793289266468, 0.8956011629944399, 0.9058943604101173, 0.9156427451867807, 0.895876813986536, 0.9139253053091138, 0.923519101993809, 0.9097668385793689, 0.9321896304269823, 0.8878729994904485, 0.9012480831673046, 0.9326143282808653, 0.9274285880764713, 0.9225486302074802, 0.9292192126053741, 0.9117930797374755, 0.9258896854034053, 0.9112441467199268, 0.9213083686674676, 0.9159846695769026, 0.9443821714638683, 0.9222452854645521, 0.932306963657153, 0.9172925808942748, 0.9280922805805637, 0.9189611701811515, 0.9302623460444507, 0.9250293379601777, 0.9279905886598299, 0.9197716080100211, 0.8984295582736548, 0.9214056570492214, 0.9205982503486624, 0.9174881705553376, 0.9046857356966184, 0.9100834497007932, 0.8990146137521358, 0.906221144353604, 0.9186669006361043, 0.8986323322475845, 0.9246652339229625, 0.9050854381827289, 0.9134759815585961, 0.9126369005973844]\n"
     ]
    },
    {
     "data": {
      "image/png": "[encoded data removed]",
      "text/plain": [
       "<Figure size 432x288 with 1 Axes>"
      ]
     },
     "metadata": {
      "needs_background": "light"
     },
     "output_type": "display_data"
    }
   ],
   "source": [
    "X=country_clean_df\n",
    "y=list(country_df[discrim_var])\n",
    "\n",
    "mask_id_list = country_df['mask_id'].tolist()\n",
    "unique_mask_list = []\n",
    "\n",
    "for x in mask_id_list:\n",
    "    # check if exists in unique_list or not\n",
    "    if x not in unique_mask_list:\n",
    "        unique_mask_list.append(x)\n",
    "\n",
    "perc70 = math.ceil(len(unique_mask_list)*0.7)\n",
    "\n",
    "plt.figure()\n",
    "ax = plt.gca()\n",
    "\n",
    "#y = label_binarize(y, classes=[0, 1])\n",
    "#print (X)\n",
    "\n",
    "boot=range(int(number_models))\n",
    "roc_series=[]\n",
    "col = 0\n",
    "import_df = pd.DataFrame(index = persist_comb_df.columns)\n",
    "for q in boot:\n",
    "\tcol += 1\n",
    "\tcoln = \"boot\" + str(col)\n",
    "\ttrain_mask_list = random.sample(unique_mask_list, perc70)\n",
    "\n",
    "\ttest_mask_list = list(set(unique_mask_list) - set(train_mask_list))\n",
    "\n",
    "\ttrain_sample_df = country_df.loc[country_df['mask_id'].isin(train_mask_list)]\n",
    "\tX_train = train_sample_df.drop(['country', 'T1D', 'IA', 'breast_fed', 'mask_id'], axis=1)\n",
    "\ty_train = list(train_sample_df[discrim_var])\n",
    "\n",
    "\ttest_sample_df = country_df.loc[country_df['mask_id'].isin(test_mask_list)]\n",
    "\tX_test = test_sample_df.drop(['country', 'T1D', 'IA', 'breast_fed', 'mask_id'], axis=1)\n",
    "\ty_test = list(test_sample_df[discrim_var])\n",
    "\trandom_state = np.random.RandomState(0)\n",
    "\n",
    "\tclassifier = RandomForestClassifier(n_estimators=100, random_state=random_state)\n",
    "\tclassifier.fit(X_train, y_train)\n",
    "\t#rfc_disp = plot_roc_curve(classifier, X_test, y_test, ax=ax, alpha=0.5, color='gold')\n",
    "\trfc_disp = RocCurveDisplay.from_estimator(classifier, X_test, y_test, ax=ax, alpha=0.5, color='gold')\n",
    "\n",
    "\trfc_disp.plot(ax=ax, alpha=0.2, color='darkorange')\n",
    "\t#roc_auc = auc(classifier)\n",
    "\ty_pred_proba = classifier.predict_proba(X_test)\n",
    "\ttry:\n",
    "\t\troc_auc = roc_auc_score(y_test, y_pred_proba[:,1])\n",
    "\texcept ValueError:\n",
    "\t\tpass\n",
    "\n",
    "\tfeature_imp = pd.Series(classifier.feature_importances_,index=persist_comb_df.columns, name=str(coln))\n",
    "\tfeature_imp = feature_imp.to_frame()\n",
    "\n",
    "\timport_df = import_df.join(feature_imp)\n",
    "\n",
    "\tlw = 2\n",
    "\troc_series += [roc_auc]\n",
    "\n",
    "print (roc_series)\n",
    "\n",
    "plt.plot([0, 1], [0, 1], color='navy', lw=lw, linestyle='--')\n",
    "plt.xlim([-0.05, 1.0])\n",
    "plt.ylim([0.0, 1.05])\n",
    "ax.get_legend().remove()\n",
    "roc_avg=np.average(roc_series)\n",
    "#plt.legend(['ROC curve (area = %0.2f)' % roc_avg])\n",
    "plt.xlabel('False Positive Rate')\n",
    "plt.ylabel('True Positive Rate')\n",
    "plt.title('Receiver operating characteristic (curve average area=%0.2f)' % roc_avg)\n",
    "plt.show()"
   ]
  },
  {
   "cell_type": "code",
   "execution_count": 10,
   "metadata": {},
   "outputs": [
    {
     "name": "stdout",
     "output_type": "stream",
     "text": [
      "Exists\n"
     ]
    }
   ],
   "source": [
    "ind_dir = pathname + \"/\" + \"../../intermediate_files/random_forest_outputs/\"\n",
    "\n",
    "if os.path.isdir(ind_dir):\n",
    "    print(\"Exists\")\n",
    "else:\n",
    "    print(\"Doesn't exist\")\n",
    "    os.mkdir(ind_dir)\n",
    "\n",
    "import_df[\"avg_importance\"] = import_df.mean(axis = 1)\n",
    "\n",
    "import_df = import_df.sort_values(by=['avg_importance'], ascending=False)\n",
    "\n",
    "import_df[\"avg_importance\"].to_csv(str(ind_dir) + \"/rf_important_all_sp_\" + str(discrim_country) + \"_vs_not1_pat_groups.tsv\", sep = \"\\t\")"
   ]
  },
  {
   "cell_type": "code",
   "execution_count": 26,
   "metadata": {},
   "outputs": [],
   "source": [
    "roc_df = pd.DataFrame({\"Kingdom\": \"All\", \"Feature_type\": \"Country\", \"Variable\" :str(discrim_country), \"AUC\": roc_series})\n",
    "\n",
    "\n",
    "roc_df.to_csv(str(ind_dir) + \"rf_ROC_AUC_all_sp_\" + str(discrim_country) + \"_vs_not1_pat_groups.tsv\", sep = \"\\t\", index = False)"
   ]
  },
  {
   "cell_type": "code",
   "execution_count": 27,
   "metadata": {},
   "outputs": [
    {
     "data": {
      "text/plain": [
       "0"
      ]
     },
     "execution_count": 27,
     "metadata": {},
     "output_type": "execute_result"
    }
   ],
   "source": [
    "os.system('say \"your program has finished\"')"
   ]
  }
 ],
 "metadata": {
  "kernelspec": {
   "display_name": "Python 3",
   "language": "python",
   "name": "python3"
  },
  "language_info": {
   "codemirror_mode": {
    "name": "ipython",
    "version": 3
   },
   "file_extension": ".py",
   "mimetype": "text/x-python",
   "name": "python",
   "nbconvert_exporter": "python",
   "pygments_lexer": "ipython3",
   "version": "3.9.12"
  },
  "orig_nbformat": 4
 },
 "nbformat": 4,
 "nbformat_minor": 2
}
