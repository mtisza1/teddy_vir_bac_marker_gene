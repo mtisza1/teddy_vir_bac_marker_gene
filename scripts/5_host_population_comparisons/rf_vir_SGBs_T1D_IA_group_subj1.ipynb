{
 "cells": [
  {
   "attachments": {},
   "cell_type": "markdown",
   "metadata": {},
   "source": [
    "random forest virus SGB table \n",
    "IA or T1D\n",
    "GROUP THE TRAIN/TEST SETS BY PATIENT"
   ]
  },
  {
   "cell_type": "code",
   "execution_count": 19,
   "metadata": {},
   "outputs": [],
   "source": [
    "### load packages\n",
    "import os\n",
    "import os.path as path\n",
    "import sys, os\n",
    "import pandas as pd\n",
    "import numpy as np\n",
    "import math\n",
    "import scipy\n",
    "from sklearn.model_selection import train_test_split\n",
    "from sklearn.ensemble import RandomForestClassifier\n",
    "from sklearn import metrics\n",
    "import matplotlib.pyplot as plt\n",
    "\n",
    "from sklearn import svm, datasets\n",
    "from sklearn.metrics import roc_curve, auc, RocCurveDisplay\n",
    "from sklearn.model_selection import train_test_split\n",
    "from sklearn.preprocessing import label_binarize\n",
    "from sklearn.multiclass import OneVsRestClassifier\n",
    "from scipy import interp\n",
    "from sklearn.metrics import roc_auc_score\n",
    "from sklearn.model_selection import RandomizedSearchCV\n",
    "from sklearn.ensemble import RandomForestRegressor\n",
    "from sklearn.model_selection import GridSearchCV\n",
    "import re\n",
    "from sklearn.metrics import plot_roc_curve\n",
    "from sklearn.metrics import roc_auc_score\n",
    "import random "
   ]
  },
  {
   "cell_type": "code",
   "execution_count": 20,
   "metadata": {},
   "outputs": [
    {
     "name": "stdout",
     "output_type": "stream",
     "text": [
      "/Users/u241374/mike_tisza/cmmr_repos/teddy_vir_bac_marker_gene/scripts/5_host_population_comparisons\n"
     ]
    }
   ],
   "source": [
    "### location of this .ipynb\n",
    "pathname =os.path.abspath(\"\")\n",
    "print (pathname)\n",
    "\n",
    "### files\n",
    "vir_table=\"../../intermediate_files/TGVG1.1_MPA4_combined_abundance.virus_species.wide.tsv\"\n",
    "metadata_table=\"../../data/some_teddy_MP142_metadata2.all_samples1.delivery.csv\"\n",
    "ncc_table=\"../../data/MP142_CASE_CNTRL_T1D_LIST1.csv\""
   ]
  },
  {
   "cell_type": "code",
   "execution_count": 21,
   "metadata": {},
   "outputs": [],
   "source": [
    "### parse OTU files down to 1% prevalence, the combine\n",
    "\n",
    "vir_df = pd.read_csv(pathname + \"/\" + vir_table, sep=\"\\t\", header=0, index_col=0)\n",
    "#bac_df = bac_df.drop(['taxonomy'], axis=1)\n",
    "thresh = math.ceil(len(vir_df.columns)/100)\n",
    "\n",
    "persist_vir_df = vir_df[vir_df[vir_df > float(0.0)].count(axis=1) >= thresh]\n",
    "\n",
    "persist_comb_df = persist_vir_df.T\n",
    "\n",
    "del vir_df"
   ]
  },
  {
   "cell_type": "code",
   "execution_count": 22,
   "metadata": {},
   "outputs": [],
   "source": [
    "metadata_df = pd.read_csv(pathname + \"/\" + metadata_table, header=0, index_col=False)\n",
    "metadata_df.index = metadata_df.index.map(int)\n",
    "metadata_df['brst_fed'] = metadata_df['brst_fed'].fillna(0)\n",
    "metadata_df['sample'] = metadata_df['sample'].astype(str)"
   ]
  },
  {
   "cell_type": "code",
   "execution_count": 23,
   "metadata": {},
   "outputs": [],
   "source": [
    "ncc_df = pd.read_csv(pathname + \"/\" + ncc_table, header=0, index_col=False)"
   ]
  },
  {
   "cell_type": "code",
   "execution_count": 24,
   "metadata": {},
   "outputs": [],
   "source": [
    "met_ncc = pd.merge(metadata_df, ncc_df, on = \"mask_id\", how = \"left\")"
   ]
  },
  {
   "cell_type": "code",
   "execution_count": 25,
   "metadata": {},
   "outputs": [],
   "source": [
    "T1D = []\n",
    "Country = []\n",
    "IA = []\n",
    "brst_fd = []\n",
    "masks = []\n",
    "is_NCC = []\n",
    "for ind in persist_comb_df.index:\n",
    "    state = met_ncc.loc[met_ncc['sample'] == ind, 'T1D'].values[0]\n",
    "    country_q = met_ncc.loc[met_ncc['sample'] == ind, 'country'].values[0]\n",
    "    ia1 = met_ncc.loc[met_ncc['sample'] == ind, 'IA'].values[0]\n",
    "    milk = met_ncc.loc[met_ncc['sample'] == ind, 'brst_fed'].values[0]\n",
    "    mid = met_ncc.loc[met_ncc['sample'] == ind, 'mask_id'].values[0]\n",
    "    ncc = met_ncc.loc[met_ncc['sample'] == ind, 'outcome'].values[0]\n",
    "    if milk == \"\":\n",
    "        milk = 0\n",
    "    brst_fd += [milk]\n",
    "    Country += [country_q]\n",
    "    T1D += [str(state)]\n",
    "    IA += [str(ia1)]\n",
    "    masks += [str(mid)]\n",
    "    is_NCC += [ncc]\n",
    "#random.shuffle(T1D)\n",
    "c_df = pd.DataFrame({'country': Country, 'T1D': T1D, 'IA': IA, 'breast_fed': brst_fd, 'mask_id': masks, 'isnested': is_NCC}, index=persist_comb_df.index)\n",
    "### map({1: \"USA\", 2: \"Finland\", 3: \"Germany\", 4: \"Sweden\"})\n",
    "c_df['country'] = c_df['country'].map({1: \"USA\", 2: \"other\", 3: \"other\", 4: \"other\"})\n",
    "\n",
    "country_df = pd.concat([persist_comb_df, c_df], axis=1)\n",
    "\n",
    "country_ncc_df = country_df.query(\"isnested == isnested\")\n",
    "\n",
    "country_clean_df = country_df.drop(['country', 'T1D', 'IA', 'breast_fed', 'mask_id', 'isnested'], axis=1)"
   ]
  },
  {
   "cell_type": "code",
   "execution_count": 26,
   "metadata": {},
   "outputs": [],
   "source": [
    "### choose one of the phenotypes to test\n",
    "discrim_var = \"T1D\"\n",
    "#discrim_var = \"IA\"\n",
    "number_models = 50\n",
    "\n",
    "mask_id_list = country_ncc_df['mask_id'].tolist()\n",
    "unique_mask_list = []\n",
    "\n",
    "for x in mask_id_list:\n",
    "    # check if exists in unique_list or not\n",
    "    if x not in unique_mask_list:\n",
    "        unique_mask_list.append(x)\n",
    "\n",
    "perc70 = math.ceil(len(unique_mask_list)*0.7)\n",
    "\n",
    "train_mask_list = random.sample(unique_mask_list, perc70)\n",
    "\n",
    "test_mask_list = list(set(unique_mask_list) - set(train_mask_list))\n",
    "\n",
    "train_sample_df = country_ncc_df.loc[country_ncc_df['mask_id'].isin(train_mask_list)]\n",
    "train_sample_clean_df = train_sample_df.drop(['country', 'T1D', 'IA', 'breast_fed', 'mask_id', 'isnested'], axis=1)\n",
    "train_sample_list = list(train_sample_df[discrim_var])\n",
    "\n",
    "test_sample_df = country_ncc_df.loc[country_ncc_df['mask_id'].isin(test_mask_list)]\n",
    "test_sample_clean_df = test_sample_df.drop(['country', 'T1D', 'IA', 'breast_fed', 'mask_id', 'isnested'], axis=1)\n",
    "test_sample_list = list(test_sample_df[discrim_var])    "
   ]
  },
  {
   "cell_type": "code",
   "execution_count": 27,
   "metadata": {},
   "outputs": [
    {
     "name": "stdout",
     "output_type": "stream",
     "text": [
      "[0.5089185926181442, 0.4544449326726835, 0.4536268667059353, 0.4615382060683353, 0.4785514396168714, 0.4413980660757454, 0.4870158650214052, 0.422270089152157, 0.467203723594701, 0.4847891855551287, 0.45575927263969174, 0.4363394507966917, 0.499207898277463, 0.4401404530724862, 0.4695185791517551, 0.4502519840120489, 0.46488299911754866, 0.447580701754386, 0.4678202011535345, 0.43449523524941047, 0.47992584902862223, 0.4100359546114263, 0.4795549545119253, 0.44976270240089333, 0.47284922525575934, 0.4392757559297483, 0.4730509239818519, 0.5279142252541997, 0.4576944927617551, 0.46226680240583096, 0.46623782976763384, 0.548165423183381, 0.519884109373191, 0.4021561551586163, 0.47205349132775115, 0.5006294162164592, 0.4431225191209217, 0.48661120869112673, 0.43027579066265065, 0.4725772919321306, 0.5408648753619094, 0.40908328513591663, 0.49798769771528995, 0.4924165261382799, 0.47956005368493027, 0.4833850727342329, 0.4144152926322044, 0.5067153827937345, 0.38882635697922324, 0.44752649694055946]\n"
     ]
    },
    {
     "data": {
      "image/png": "[encoded data removed]",
      "text/plain": [
       "<Figure size 432x288 with 1 Axes>"
      ]
     },
     "metadata": {
      "needs_background": "light"
     },
     "output_type": "display_data"
    }
   ],
   "source": [
    "X=country_clean_df\n",
    "y=list(country_ncc_df[discrim_var])\n",
    "\n",
    "mask_id_list = country_ncc_df['mask_id'].tolist()\n",
    "unique_mask_list = []\n",
    "\n",
    "for x in mask_id_list:\n",
    "    # check if exists in unique_list or not\n",
    "    if x not in unique_mask_list:\n",
    "        unique_mask_list.append(x)\n",
    "\n",
    "perc70 = math.ceil(len(unique_mask_list)*0.7)\n",
    "\n",
    "plt.figure()\n",
    "ax = plt.gca()\n",
    "\n",
    "#y = label_binarize(y, classes=[0, 1])\n",
    "#print (X)\n",
    "\n",
    "boot=range(int(number_models))\n",
    "roc_series=[]\n",
    "col = 0\n",
    "import_df = pd.DataFrame(index = persist_comb_df.columns)\n",
    "for q in boot:\n",
    "\tcol += 1\n",
    "\tcoln = \"boot\" + str(col)\n",
    "\ttrain_mask_list = random.sample(unique_mask_list, perc70)\n",
    "\n",
    "\ttest_mask_list = list(set(unique_mask_list) - set(train_mask_list))\n",
    "\n",
    "\ttrain_sample_df = country_ncc_df.loc[country_ncc_df['mask_id'].isin(train_mask_list)]\n",
    "\tX_train = train_sample_df.drop(['country', 'T1D', 'IA', 'breast_fed', 'mask_id', 'isnested'], axis=1)\n",
    "\ty_train = list(train_sample_df[discrim_var])\n",
    "\n",
    "\ttest_sample_df = country_ncc_df.loc[country_ncc_df['mask_id'].isin(test_mask_list)]\n",
    "\tX_test = test_sample_df.drop(['country', 'T1D', 'IA', 'breast_fed', 'mask_id', 'isnested'], axis=1)\n",
    "\ty_test = list(test_sample_df[discrim_var])\n",
    "\trandom_state = np.random.RandomState(0)\n",
    "\n",
    "\tclassifier = RandomForestClassifier(n_estimators=100, random_state=random_state)\n",
    "\tclassifier.fit(X_train, y_train)\n",
    "\t#rfc_disp = plot_roc_curve(classifier, X_test, y_test, ax=ax, alpha=0.5, color='gold')\n",
    "\trfc_disp = RocCurveDisplay.from_estimator(classifier, X_test, y_test, ax=ax, alpha=0.5, color='gold')\n",
    "\n",
    "\trfc_disp.plot(ax=ax, alpha=0.2, color='darkorange')\n",
    "\t#roc_auc = auc(classifier)\n",
    "\ty_pred_proba = classifier.predict_proba(X_test)\n",
    "\ttry:\n",
    "\t\troc_auc = roc_auc_score(y_test, y_pred_proba[:,1])\n",
    "\texcept ValueError:\n",
    "\t\tpass\n",
    "\n",
    "\tfeature_imp = pd.Series(classifier.feature_importances_,index=persist_comb_df.columns, name=str(coln))\n",
    "\tfeature_imp = feature_imp.to_frame()\n",
    "\n",
    "\timport_df = import_df.join(feature_imp)\n",
    "\n",
    "\tlw = 2\n",
    "\troc_series += [roc_auc]\n",
    "\n",
    "print (roc_series)\n",
    "\n",
    "plt.plot([0, 1], [0, 1], color='navy', lw=lw, linestyle='--')\n",
    "plt.xlim([-0.05, 1.0])\n",
    "plt.ylim([0.0, 1.05])\n",
    "ax.get_legend().remove()\n",
    "roc_avg=np.average(roc_series)\n",
    "#plt.legend(['ROC curve (area = %0.2f)' % roc_avg])\n",
    "plt.xlabel('False Positive Rate')\n",
    "plt.ylabel('True Positive Rate')\n",
    "plt.title('Receiver operating characteristic (curve average area=%0.2f)' % roc_avg)\n",
    "plt.show()"
   ]
  },
  {
   "cell_type": "code",
   "execution_count": 28,
   "metadata": {},
   "outputs": [
    {
     "name": "stdout",
     "output_type": "stream",
     "text": [
      "Exists\n"
     ]
    }
   ],
   "source": [
    "ind_dir = pathname + \"/\" + \"../../intermediate_files/random_forest_outputs/\"\n",
    "\n",
    "if os.path.isdir(ind_dir):\n",
    "    print(\"Exists\")\n",
    "else:\n",
    "    print(\"Doesn't exist\")\n",
    "    os.mkdir(ind_dir)\n",
    "\n",
    "import_df[\"avg_importance\"] = import_df.mean(axis = 1)\n",
    "\n",
    "import_df = import_df.sort_values(by=['avg_importance'], ascending=False)\n",
    "\n",
    "import_df[\"avg_importance\"].to_csv(str(ind_dir) + \"/rf_important_vir_sp_\" + str(discrim_var) + \"_vs_not1_NCC_groups.tsv\", sep = \"\\t\")"
   ]
  },
  {
   "cell_type": "code",
   "execution_count": 29,
   "metadata": {},
   "outputs": [],
   "source": [
    "roc_df = pd.DataFrame({\"Kingdom\": \"Virus\", \"Feature_type\": \"Disease\", \"Variable\" :str(discrim_var), \"AUC\": roc_series})\n",
    "\n",
    "\n",
    "roc_df.to_csv(str(ind_dir) + \"rf_ROC_AUC_vir_sp_\" + str(discrim_var) + \"_vs_not1_NCC_groups.tsv\", sep = \"\\t\", index = False)"
   ]
  },
  {
   "cell_type": "code",
   "execution_count": 30,
   "metadata": {},
   "outputs": [
    {
     "data": {
      "text/plain": [
       "0"
      ]
     },
     "execution_count": 30,
     "metadata": {},
     "output_type": "execute_result"
    }
   ],
   "source": [
    "os.system('say \"your program has finished\"')"
   ]
  }
 ],
 "metadata": {
  "kernelspec": {
   "display_name": "Python 3",
   "language": "python",
   "name": "python3"
  },
  "language_info": {
   "codemirror_mode": {
    "name": "ipython",
    "version": 3
   },
   "file_extension": ".py",
   "mimetype": "text/x-python",
   "name": "python",
   "nbconvert_exporter": "python",
   "pygments_lexer": "ipython3",
   "version": "3.9.12"
  },
  "orig_nbformat": 4
 },
 "nbformat": 4,
 "nbformat_minor": 2
}
