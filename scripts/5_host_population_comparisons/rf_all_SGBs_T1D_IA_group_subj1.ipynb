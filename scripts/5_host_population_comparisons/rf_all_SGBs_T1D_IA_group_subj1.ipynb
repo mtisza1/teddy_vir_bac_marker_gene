{
 "cells": [
  {
   "attachments": {},
   "cell_type": "markdown",
   "metadata": {},
   "source": [
    "random forest virus & bacteria species table \n",
    "IA or T1D\n",
    "GROUP THE TRAIN/TEST SETS BY PATIENT"
   ]
  },
  {
   "cell_type": "code",
   "execution_count": 10,
   "metadata": {},
   "outputs": [],
   "source": [
    "### load packages\n",
    "import os\n",
    "import os.path as path\n",
    "import sys, os\n",
    "import pandas as pd\n",
    "import numpy as np\n",
    "import math\n",
    "import scipy\n",
    "from sklearn.model_selection import train_test_split\n",
    "from sklearn.ensemble import RandomForestClassifier\n",
    "from sklearn import metrics\n",
    "import matplotlib.pyplot as plt\n",
    "\n",
    "from sklearn import svm, datasets\n",
    "from sklearn.metrics import roc_curve, auc, RocCurveDisplay\n",
    "from sklearn.model_selection import train_test_split\n",
    "from sklearn.preprocessing import label_binarize\n",
    "from sklearn.multiclass import OneVsRestClassifier\n",
    "from scipy import interp\n",
    "from sklearn.metrics import roc_auc_score\n",
    "from sklearn.model_selection import RandomizedSearchCV\n",
    "from sklearn.ensemble import RandomForestRegressor\n",
    "from sklearn.model_selection import GridSearchCV\n",
    "import re\n",
    "from sklearn.metrics import plot_roc_curve\n",
    "from sklearn.metrics import roc_auc_score\n",
    "import random "
   ]
  },
  {
   "cell_type": "code",
   "execution_count": 11,
   "metadata": {},
   "outputs": [
    {
     "name": "stdout",
     "output_type": "stream",
     "text": [
      "/Users/u241374/mike_tisza/cmmr_repos/teddy_vir_bac_marker_gene/scripts/5_host_population_comparisons\n"
     ]
    }
   ],
   "source": [
    "### location of this .ipynb\n",
    "pathname =os.path.abspath(\"\")\n",
    "print (pathname)\n",
    "\n",
    "### files\n",
    "vir_table=\"../../intermediate_files/TGVG1.1_MPA4_combined_abundance.virus_species.wide.tsv\"\n",
    "bac_table=\"../../intermediate_files/TGVG1.1_MPA4_combined_abundance.bacteria_species.wide.tsv\"\n",
    "metadata_table=\"../../data/some_teddy_MP142_metadata2.all_samples1.delivery.csv\"\n",
    "ncc_table=\"../../data/MP142_CASE_CNTRL_T1D_LIST1.csv\""
   ]
  },
  {
   "cell_type": "code",
   "execution_count": 12,
   "metadata": {},
   "outputs": [],
   "source": [
    "### parse OTU files down to 1% prevalence, the combine\n",
    "\n",
    "vir_df = pd.read_csv(pathname + \"/\" + vir_table, sep=\"\\t\", header=0, index_col=0)\n",
    "\n",
    "thresh = math.ceil(len(vir_df.columns)/100)\n",
    "\n",
    "persist_vir_df = vir_df[vir_df[vir_df > float(0.0)].count(axis=1) >= thresh]\n",
    "\n",
    "bac_df = pd.read_csv(pathname + \"/\" + bac_table, sep=\"\\t\", header=0, index_col=0)\n",
    "\n",
    "thresh = math.ceil(len(bac_df.columns)/100)\n",
    "\n",
    "persist_bac_df = bac_df[bac_df[bac_df > float(0.0)].count(axis=1) >= thresh]\n",
    "\n",
    "persist_comb_df = pd.concat([persist_vir_df, persist_bac_df])\n",
    "\n",
    "\n",
    "persist_comb_df = persist_comb_df.T\n",
    "\n",
    "del vir_df\n",
    "del bac_df"
   ]
  },
  {
   "cell_type": "code",
   "execution_count": 13,
   "metadata": {},
   "outputs": [],
   "source": [
    "metadata_df = pd.read_csv(pathname + \"/\" + metadata_table, header=0, index_col=False)\n",
    "metadata_df.index = metadata_df.index.map(int)\n",
    "metadata_df['brst_fed'] = metadata_df['brst_fed'].fillna(0)\n",
    "metadata_df['sample'] = metadata_df['sample'].astype(str)\n",
    "\n",
    "ncc_df = pd.read_csv(pathname + \"/\" + ncc_table, header=0, index_col=False)\n",
    "\n",
    "met_ncc = pd.merge(metadata_df, ncc_df, on = \"mask_id\", how = \"left\")\n",
    "\n",
    "T1D = []\n",
    "Country = []\n",
    "IA = []\n",
    "brst_fd = []\n",
    "masks = []\n",
    "is_NCC = []\n",
    "for ind in persist_comb_df.index:\n",
    "    state = met_ncc.loc[met_ncc['sample'] == ind, 'T1D'].values[0]\n",
    "    country_q = met_ncc.loc[met_ncc['sample'] == ind, 'country'].values[0]\n",
    "    ia1 = met_ncc.loc[met_ncc['sample'] == ind, 'IA'].values[0]\n",
    "    milk = met_ncc.loc[met_ncc['sample'] == ind, 'brst_fed'].values[0]\n",
    "    mid = met_ncc.loc[met_ncc['sample'] == ind, 'mask_id'].values[0]\n",
    "    ncc = met_ncc.loc[met_ncc['sample'] == ind, 'outcome'].values[0]\n",
    "    if milk == \"\":\n",
    "        milk = 0\n",
    "    brst_fd += [milk]\n",
    "    Country += [country_q]\n",
    "    T1D += [str(state)]\n",
    "    IA += [str(ia1)]\n",
    "    masks += [str(mid)]\n",
    "    is_NCC += [ncc]\n",
    "#random.shuffle(T1D)\n",
    "c_df = pd.DataFrame({'country': Country, 'T1D': T1D, 'IA': IA, 'breast_fed': brst_fd, 'mask_id': masks, 'isnested': is_NCC}, index=persist_comb_df.index)\n",
    "### map({1: \"USA\", 2: \"Finland\", 3: \"Germany\", 4: \"Sweden\"})\n",
    "c_df['country'] = c_df['country'].map({1: \"USA\", 2: \"other\", 3: \"other\", 4: \"other\"})\n",
    "\n",
    "country_df = pd.concat([persist_comb_df, c_df], axis=1)\n",
    "\n",
    "country_ncc_df = country_df.query(\"isnested == isnested\")\n",
    "\n",
    "country_clean_df = country_df.drop(['country', 'T1D', 'IA', 'breast_fed', 'mask_id', 'isnested'], axis=1)"
   ]
  },
  {
   "cell_type": "code",
   "execution_count": 14,
   "metadata": {},
   "outputs": [],
   "source": [
    "### choose one of the phenotypes to test\n",
    "discrim_var = \"T1D\"\n",
    "#discrim_var = \"IA\"\n",
    "number_models = 50\n",
    "\n",
    "mask_id_list = country_ncc_df['mask_id'].tolist()\n",
    "unique_mask_list = []\n",
    "\n",
    "for x in mask_id_list:\n",
    "    # check if exists in unique_list or not\n",
    "    if x not in unique_mask_list:\n",
    "        unique_mask_list.append(x)\n",
    "\n",
    "perc70 = math.ceil(len(unique_mask_list)*0.7)\n",
    "\n",
    "train_mask_list = random.sample(unique_mask_list, perc70)\n",
    "\n",
    "test_mask_list = list(set(unique_mask_list) - set(train_mask_list))\n",
    "\n",
    "train_sample_df = country_ncc_df.loc[country_ncc_df['mask_id'].isin(train_mask_list)]\n",
    "train_sample_clean_df = train_sample_df.drop(['country', 'T1D', 'IA', 'breast_fed', 'mask_id', 'isnested'], axis=1)\n",
    "train_sample_list = list(train_sample_df[discrim_var])\n",
    "\n",
    "test_sample_df = country_ncc_df.loc[country_ncc_df['mask_id'].isin(test_mask_list)]\n",
    "test_sample_clean_df = test_sample_df.drop(['country', 'T1D', 'IA', 'breast_fed', 'mask_id', 'isnested'], axis=1)\n",
    "test_sample_list = list(test_sample_df[discrim_var])"
   ]
  },
  {
   "cell_type": "code",
   "execution_count": 15,
   "metadata": {},
   "outputs": [
    {
     "name": "stdout",
     "output_type": "stream",
     "text": [
      "[0.49535111186713265, 0.5173464222439166, 0.48879526585408933, 0.43900624451165965, 0.5270148286641343, 0.46074573665082474, 0.4754837122027746, 0.4059417665087768, 0.4681857891671519, 0.48610119047619044, 0.5144507507144869, 0.4305786940626591, 0.46371440301571304, 0.4442625404606433, 0.5073830441307166, 0.4181445967160252, 0.44148806281345676, 0.4966100104397603, 0.47767615176151756, 0.4412247778630622, 0.46885598048283533, 0.39819610953770146, 0.5079401552287581, 0.5043661674752162, 0.5159771920432774, 0.5095380667236955, 0.5014637156059651, 0.44316091954022996, 0.5769694119908292, 0.4779762741929466, 0.4354969870097375, 0.44233225195602077, 0.41223519049952173, 0.5098023916183203, 0.5395477401291355, 0.5060337905654065, 0.48658862632558353, 0.4560607007782952, 0.46312242915314494, 0.4352089538126979, 0.5028210439231217, 0.44190414620935475, 0.45558846579384105, 0.5101422881594337, 0.4832695559312984, 0.4033149853569034, 0.49786291396094506, 0.4389297658862876, 0.4849672146776551, 0.5170299434333497]\n"
     ]
    },
    {
     "data": {
      "image/png": "[encoded data removed]",
      "text/plain": [
       "<Figure size 432x288 with 1 Axes>"
      ]
     },
     "metadata": {
      "needs_background": "light"
     },
     "output_type": "display_data"
    }
   ],
   "source": [
    "X=country_clean_df\n",
    "y=list(country_ncc_df[discrim_var])\n",
    "\n",
    "mask_id_list = country_ncc_df['mask_id'].tolist()\n",
    "unique_mask_list = []\n",
    "\n",
    "for x in mask_id_list:\n",
    "    # check if exists in unique_list or not\n",
    "    if x not in unique_mask_list:\n",
    "        unique_mask_list.append(x)\n",
    "\n",
    "perc70 = math.ceil(len(unique_mask_list)*0.7)\n",
    "\n",
    "plt.figure()\n",
    "ax = plt.gca()\n",
    "\n",
    "#y = label_binarize(y, classes=[0, 1])\n",
    "#print (X)\n",
    "\n",
    "boot=range(int(number_models))\n",
    "roc_series=[]\n",
    "col = 0\n",
    "import_df = pd.DataFrame(index = persist_comb_df.columns)\n",
    "for q in boot:\n",
    "\tcol += 1\n",
    "\tcoln = \"boot\" + str(col)\n",
    "\ttrain_mask_list = random.sample(unique_mask_list, perc70)\n",
    "\n",
    "\ttest_mask_list = list(set(unique_mask_list) - set(train_mask_list))\n",
    "\n",
    "\ttrain_sample_df = country_ncc_df.loc[country_ncc_df['mask_id'].isin(train_mask_list)]\n",
    "\tX_train = train_sample_df.drop(['country', 'T1D', 'IA', 'breast_fed', 'mask_id', 'isnested'], axis=1)\n",
    "\ty_train = list(train_sample_df[discrim_var])\n",
    "\n",
    "\ttest_sample_df = country_ncc_df.loc[country_ncc_df['mask_id'].isin(test_mask_list)]\n",
    "\tX_test = test_sample_df.drop(['country', 'T1D', 'IA', 'breast_fed', 'mask_id', 'isnested'], axis=1)\n",
    "\ty_test = list(test_sample_df[discrim_var])\n",
    "\trandom_state = np.random.RandomState(0)\n",
    "\n",
    "\tclassifier = RandomForestClassifier(n_estimators=100, random_state=random_state)\n",
    "\tclassifier.fit(X_train, y_train)\n",
    "\t#rfc_disp = plot_roc_curve(classifier, X_test, y_test, ax=ax, alpha=0.5, color='gold')\n",
    "\trfc_disp = RocCurveDisplay.from_estimator(classifier, X_test, y_test, ax=ax, alpha=0.5, color='gold')\n",
    "\n",
    "\trfc_disp.plot(ax=ax, alpha=0.2, color='darkorange')\n",
    "\t#roc_auc = auc(classifier)\n",
    "\ty_pred_proba = classifier.predict_proba(X_test)\n",
    "\ttry:\n",
    "\t\troc_auc = roc_auc_score(y_test, y_pred_proba[:,1])\n",
    "\texcept ValueError:\n",
    "\t\tpass\n",
    "\n",
    "\tfeature_imp = pd.Series(classifier.feature_importances_,index=persist_comb_df.columns, name=str(coln))\n",
    "\tfeature_imp = feature_imp.to_frame()\n",
    "\n",
    "\timport_df = import_df.join(feature_imp)\n",
    "\n",
    "\tlw = 2\n",
    "\troc_series += [roc_auc]\n",
    "\n",
    "print (roc_series)\n",
    "\n",
    "plt.plot([0, 1], [0, 1], color='navy', lw=lw, linestyle='--')\n",
    "plt.xlim([-0.05, 1.0])\n",
    "plt.ylim([0.0, 1.05])\n",
    "ax.get_legend().remove()\n",
    "roc_avg=np.average(roc_series)\n",
    "#plt.legend(['ROC curve (area = %0.2f)' % roc_avg])\n",
    "plt.xlabel('False Positive Rate')\n",
    "plt.ylabel('True Positive Rate')\n",
    "plt.title('Receiver operating characteristic (curve average area=%0.2f)' % roc_avg)\n",
    "plt.show()"
   ]
  },
  {
   "cell_type": "code",
   "execution_count": 16,
   "metadata": {},
   "outputs": [
    {
     "name": "stdout",
     "output_type": "stream",
     "text": [
      "Exists\n"
     ]
    }
   ],
   "source": [
    "ind_dir = pathname + \"/\" + \"../../intermediate_files/random_forest_outputs/\"\n",
    "\n",
    "if os.path.isdir(ind_dir):\n",
    "    print(\"Exists\")\n",
    "else:\n",
    "    print(\"Doesn't exist\")\n",
    "    os.mkdir(ind_dir)\n",
    "\n",
    "import_df[\"avg_importance\"] = import_df.mean(axis = 1)\n",
    "\n",
    "import_df = import_df.sort_values(by=['avg_importance'], ascending=False)\n",
    "\n",
    "import_df[\"avg_importance\"].to_csv(str(ind_dir) + \"/rf_important_all_sp_\" + str(discrim_var) + \"_vs_not1_NCC_groups.tsv\", sep = \"\\t\")"
   ]
  },
  {
   "cell_type": "code",
   "execution_count": 17,
   "metadata": {},
   "outputs": [],
   "source": [
    "roc_df = pd.DataFrame({\"Kingdom\": \"All\", \"Feature_type\": \"Disease\", \"Variable\" :str(discrim_var), \"AUC\": roc_series})\n",
    "\n",
    "\n",
    "roc_df.to_csv(str(ind_dir) + \"rf_ROC_AUC_all_sp_\" + str(discrim_var) + \"_vs_not1_NCC_groups.tsv\", sep = \"\\t\", index = False)"
   ]
  },
  {
   "cell_type": "code",
   "execution_count": 18,
   "metadata": {},
   "outputs": [
    {
     "data": {
      "text/plain": [
       "0"
      ]
     },
     "execution_count": 18,
     "metadata": {},
     "output_type": "execute_result"
    }
   ],
   "source": [
    "os.system('say \"your program has finished\"')"
   ]
  }
 ],
 "metadata": {
  "kernelspec": {
   "display_name": "Python 3",
   "language": "python",
   "name": "python3"
  },
  "language_info": {
   "codemirror_mode": {
    "name": "ipython",
    "version": 3
   },
   "file_extension": ".py",
   "mimetype": "text/x-python",
   "name": "python",
   "nbconvert_exporter": "python",
   "pygments_lexer": "ipython3",
   "version": "3.9.12"
  },
  "orig_nbformat": 4
 },
 "nbformat": 4,
 "nbformat_minor": 2
}
